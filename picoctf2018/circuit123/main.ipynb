{
 "cells": [
  {
   "cell_type": "code",
   "execution_count": 2,
   "metadata": {},
   "outputs": [],
   "source": [
    "from hashlib import sha512\n",
    "from z3 import *\n",
    "import sys"
   ]
  },
  {
   "cell_type": "code",
   "execution_count": 19,
   "metadata": {},
   "outputs": [],
   "source": [
    "def verify(x, chalbox):\n",
    "    length, gates, check = chalbox\n",
    "    b = [(x >> i) & 1 for i in range(length)]\n",
    "    for name, args in gates:\n",
    "        if name == 'true':\n",
    "            b.append(1)\n",
    "        else:\n",
    "            u1 = b[args[0][0]] ^ args[0][1]\n",
    "            u2 = b[args[1][0]] ^ args[1][1]\n",
    "            if name == 'or':\n",
    "                b.append(u1 | u2)\n",
    "            elif name == 'xor':\n",
    "                b.append(u1 ^ u2)\n",
    "    \n",
    "    s.add(b[check[0]] ^ check[1] > 0)\n",
    "    return b[check[0]] ^ check[1]\n",
    "    \n",
    "def dec(x, w):\n",
    "    z = int(sha512(str(int(x)).encode('utf-8')).hexdigest(), 16)\n",
    "    return  bytearray.fromhex('{:x}'.format(w ^ z)).decode()"
   ]
  },
  {
   "cell_type": "code",
   "execution_count": 40,
   "metadata": {},
   "outputs": [
    {
     "name": "stdout",
     "output_type": "stream",
     "text": [
      "sat\n",
      "[key = 219465169949186335766963147192904921805]\n",
      "Congrats the flag is: picoCTF{36cc0cc10d273941c34694abdb21580d__aw350m3_ari7hm37ic__}\n"
     ]
    }
   ],
   "source": [
    "with open('map2.py', 'r') as f:\n",
    "        cipher, chalbox = eval(f.read())\n",
    "key = BitVec('key', 128)\n",
    "key = key % (1 << chalbox[0])\n",
    "#print('Attempting to decrypt...')\n",
    "s = Solver()\n",
    "verify(key, chalbox)\n",
    "print(s.check())\n",
    "print(s.model())\n",
    "print('Congrats the flag is:', dec(int(str(s.model()).split('=')[1][:-1]), cipher))"
   ]
  },
  {
   "cell_type": "code",
   "execution_count": null,
   "metadata": {},
   "outputs": [],
   "source": []
  }
 ],
 "metadata": {
  "kernelspec": {
   "display_name": "Python 3",
   "language": "python",
   "name": "python3"
  },
  "language_info": {
   "codemirror_mode": {
    "name": "ipython",
    "version": 3
   },
   "file_extension": ".py",
   "mimetype": "text/x-python",
   "name": "python",
   "nbconvert_exporter": "python",
   "pygments_lexer": "ipython3",
   "version": "3.6.6"
  }
 },
 "nbformat": 4,
 "nbformat_minor": 2
}
